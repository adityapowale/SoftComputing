{
 "cells": [
  {
   "cell_type": "code",
   "execution_count": 1,
   "metadata": {},
   "outputs": [],
   "source": [
    "import torch\n",
    "from torchvision import datasets\n",
    "import numpy as np\n",
    "import random\n",
    "import matplotlib.pyplot as plt"
   ]
  },
  {
   "cell_type": "code",
   "execution_count": 2,
   "metadata": {},
   "outputs": [],
   "source": [
    "data = datasets.MNIST(root = './' , download=False , train=True)"
   ]
  },
  {
   "cell_type": "code",
   "execution_count": 3,
   "metadata": {},
   "outputs": [],
   "source": [
    "X = data.data.to(torch.int64).numpy()\n",
    "Y = data.targets.to(torch.int64).numpy()"
   ]
  },
  {
   "cell_type": "code",
   "execution_count": 4,
   "metadata": {},
   "outputs": [],
   "source": [
    "X = X[np.logical_or(Y == 3 , Y == 8)]\n",
    "Y = Y[np.logical_or(Y == 3 , Y == 8)]\n",
    "x_train = X[0 : 1000 , : , :] \n",
    "y_train = Y[0 : 1000]\n",
    "X.shape , Y.shape , x_train.shape ,y_train.shape\n",
    "# x_train = x_train.flatten()\n",
    "x_train = x_train.reshape(1000 , 28 * 28)\n",
    "img = x_train[0].reshape(28 , 28)"
   ]
  },
  {
   "cell_type": "code",
   "execution_count": 5,
   "metadata": {},
   "outputs": [
    {
     "data": {
      "text/plain": [
       "(<matplotlib.axes._subplots.AxesSubplot at 0x7fd4c80dd828>,\n",
       " <matplotlib.image.AxesImage at 0x7fd4c50c57b8>)"
      ]
     },
     "execution_count": 5,
     "metadata": {},
     "output_type": "execute_result"
    },
    {
     "data": {
      "image/png": "[encoded data removed]",
      "text/plain": [
       "<Figure size 432x288 with 2 Axes>"
      ]
     },
     "metadata": {},
     "output_type": "display_data"
    }
   ],
   "source": [
    "plt.subplot(121) , plt.imshow(img , 'gray')\n",
    "plt.subplot(122) , plt.imshow(X[16] , 'gray')"
   ]
  },
  {
   "cell_type": "code",
   "execution_count": 6,
   "metadata": {},
   "outputs": [],
   "source": [
    "def selectRandom(l , h , i):\n",
    "    while(True):\n",
    "        j = random.randint(l , h)\n",
    "        if i != j:\n",
    "            return j"
   ]
  },
  {
   "cell_type": "code",
   "execution_count": 7,
   "metadata": {},
   "outputs": [],
   "source": [
    "def dataPoints(i , j):\n",
    "    return x_train[i : ] , y_train[i] , x_train[j , :] , y_train[j]"
   ]
  },
  {
   "cell_type": "code",
   "execution_count": 9,
   "metadata": {},
   "outputs": [],
   "source": [
    "def kernelfunc(x , y):\n",
    "    return np.dot(x , y.T)"
   ]
  },
  {
   "cell_type": "code",
   "execution_count": 11,
   "metadata": {},
   "outputs": [],
   "source": [
    "def aplhaBounds(a1 , a2 , y1 ,y2 , c):\n",
    "    if y1 == y2:\n",
    "        return max(-a1 + a2 , 0) , min(c , c - a1 + a2)\n",
    "    else:\n",
    "        return max(a1 + a2 - c , 0) , min(c , a1 + a2)`"
   ]
  },
  {
   "cell_type": "code",
   "execution_count": 12,
   "metadata": {},
   "outputs": [],
   "source": [
    "def calculate_w(alpha , x_train , y_train):\n",
    "    return np.dot(x_train.T , np.multiply(alpha , y_train))"
   ]
  },
  {
   "cell_type": "code",
   "execution_count": null,
   "metadata": {},
   "outputs": [],
   "source": []
  },
  {
   "cell_type": "code",
   "execution_count": 44,
   "metadata": {},
   "outputs": [],
   "source": [
    "def fit():\n",
    "    alpha = np.zeros(x_train.shape[0])\n",
    "    while(True): #run until convergence\n",
    "        change = 0 \n",
    "        for i in range(x_train.shape[0]):\n",
    "            j = selectRandom(0 , x_train.shape[0] - 1 , i) # selecting j randomly\n",
    "            xi , yi , xj , yj = dataPoints(i , j)\n",
    "            kij = kernelfunc(xi , xi) , kernelfunc(xj , xj) - 2 * kernelfunc(xi, xj)\n",
    "            if kij == 0:\n",
    "                continue\n",
    "            alpha_i , alpha_j = alpha[i] , alpha[j]\n",
    "            L , H = alphaBounds(alpha_i , alpha_j , yi , yj , c)\n",
    "            w = calculate_w(alpha , x_train , y_train)\n",
    "            b = calculate_b(w , x_train , y_train)"
   ]
  },
  {
   "cell_type": "code",
   "execution_count": null,
   "metadata": {},
   "outputs": [],
   "source": []
  }
 ],
 "metadata": {
  "kernelspec": {
   "display_name": "Python 3",
   "language": "python",
   "name": "python3"
  },
  "language_info": {
   "codemirror_mode": {
    "name": "ipython",
    "version": 3
   },
   "file_extension": ".py",
   "mimetype": "text/x-python",
   "name": "python",
   "nbconvert_exporter": "python",
   "pygments_lexer": "ipython3",
   "version": "3.6.7"
  }
 },
 "nbformat": 4,
 "nbformat_minor": 2
}
