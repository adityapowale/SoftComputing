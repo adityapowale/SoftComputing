{
 "cells": [
  {
   "cell_type": "code",
   "execution_count": 1,
   "metadata": {},
   "outputs": [],
   "source": [
    "import numpy as np\n",
    "import pandas as pd\n",
    "from numpy import genfromtxt\n",
    "import matplotlib.pyplot as plt"
   ]
  },
  {
   "cell_type": "code",
   "execution_count": 2,
   "metadata": {},
   "outputs": [],
   "source": [
    "data=pd.read_csv('Housedata.csv',index_col=0)"
   ]
  },
  {
   "cell_type": "code",
   "execution_count": 3,
   "metadata": {},
   "outputs": [],
   "source": [
    "categorical=['driveway','recroom','fullbase','gashw','airco','prefarea']\n",
    "for col in categorical:\n",
    "    temp=data.loc[:,col]\n",
    "    c=temp.nunique()\n",
    "    temp=temp.astype('category')\n",
    "    temp.cat.categories=np.arange(c)\n",
    "    data.loc[:,col]=temp"
   ]
  },
  {
   "cell_type": "code",
   "execution_count": 4,
   "metadata": {},
   "outputs": [],
   "source": [
    "pmax=data.loc[:,'price'].max()\n",
    "pmin=data.loc[:,'price'].min()\n",
    "data.loc[:,'price']=data.loc[:,'price'].apply(lambda x:(x-pmin)/(pmax-pmin))"
   ]
  },
  {
   "cell_type": "code",
   "execution_count": 5,
   "metadata": {},
   "outputs": [],
   "source": [
    "lmax=data.loc[:,'lotsize'].max()\n",
    "lmin=data.loc[:,'lotsize'].min()\n",
    "data.loc[:,'lotsize']=data.loc[:,'lotsize'].apply(lambda x:(x-lmin)/(lmax-lmin))"
   ]
  },
  {
   "cell_type": "code",
   "execution_count": 6,
   "metadata": {},
   "outputs": [],
   "source": [
    "data.insert(1,\"x0\",np.ones(len(data)))"
   ]
  },
  {
   "cell_type": "code",
   "execution_count": 7,
   "metadata": {},
   "outputs": [
    {
     "data": {
      "text/html": [
       "<div>\n",
       "<style scoped>\n",
       "    .dataframe tbody tr th:only-of-type {\n",
       "        vertical-align: middle;\n",
       "    }\n",
       "\n",
       "    .dataframe tbody tr th {\n",
       "        vertical-align: top;\n",
       "    }\n",
       "\n",
       "    .dataframe thead th {\n",
       "        text-align: right;\n",
       "    }\n",
       "</style>\n",
       "<table border=\"1\" class=\"dataframe\">\n",
       "  <thead>\n",
       "    <tr style=\"text-align: right;\">\n",
       "      <th></th>\n",
       "      <th>price</th>\n",
       "      <th>x0</th>\n",
       "      <th>lotsize</th>\n",
       "      <th>bedrooms</th>\n",
       "      <th>bathrms</th>\n",
       "      <th>stories</th>\n",
       "      <th>driveway</th>\n",
       "      <th>recroom</th>\n",
       "      <th>fullbase</th>\n",
       "      <th>gashw</th>\n",
       "      <th>airco</th>\n",
       "      <th>garagepl</th>\n",
       "      <th>prefarea</th>\n",
       "    </tr>\n",
       "  </thead>\n",
       "  <tbody>\n",
       "    <tr>\n",
       "      <th>1</th>\n",
       "      <td>0.10303</td>\n",
       "      <td>1.0</td>\n",
       "      <td>0.28866</td>\n",
       "      <td>3</td>\n",
       "      <td>1</td>\n",
       "      <td>2</td>\n",
       "      <td>1</td>\n",
       "      <td>0</td>\n",
       "      <td>1</td>\n",
       "      <td>0</td>\n",
       "      <td>0</td>\n",
       "      <td>1</td>\n",
       "      <td>0</td>\n",
       "    </tr>\n",
       "  </tbody>\n",
       "</table>\n",
       "</div>"
      ],
      "text/plain": [
       "     price   x0  lotsize  bedrooms  bathrms  stories driveway recroom  \\\n",
       "1  0.10303  1.0  0.28866         3        1        2        1       0   \n",
       "\n",
       "  fullbase gashw airco  garagepl prefarea  \n",
       "1        1     0     0         1        0  "
      ]
     },
     "execution_count": 7,
     "metadata": {},
     "output_type": "execute_result"
    }
   ],
   "source": [
    "data.head(1)"
   ]
  },
  {
   "cell_type": "code",
   "execution_count": 11,
   "metadata": {},
   "outputs": [],
   "source": [
    "d=data.values\n",
    "xd,yd=d[:,1:],d[:,:1]\n",
    "m=len(d)\n",
    "n=xd.shape[1]\n",
    "tau=10\n",
    "lr=0.01\n",
    "xd.shape,yd.shape\n",
    "learning_rate = 0.01"
   ]
  },
  {
   "cell_type": "code",
   "execution_count": 12,
   "metadata": {},
   "outputs": [],
   "source": [
    "def initialize_weights():\n",
    "    thetas=np.random.randn(n,1)\n",
    "    return thetas\n",
    "\n",
    "def calculateWeight(p):\n",
    "    weights=[]\n",
    "    for n in xd:\n",
    "        sum=0\n",
    "        for i in range(len(p)):\n",
    "            sqr=(p[i]-n[i])*(p[i]-n[i])\n",
    "            sum += np.exp(-sqr/2*(tau**2))\n",
    "        weights.append(sum/len(p))\n",
    "    return np.reshape(np.array(weights),newshape=(-1,1))\n",
    "\n",
    "def forward(x,w):\n",
    "    return np.dot(x,w)\n",
    "\n",
    "def diff(y,y_):\n",
    "    out=(y_- y)\n",
    "    return out\n",
    "\n",
    "def gradient(dw,x,weights):\n",
    "    return (dw*x*weights).mean()\n",
    "\n",
    "def mse(y,y_):\n",
    "    return np.mean(np.multiply(y-y_ , y-y_))\n",
    "\n",
    "def denorm(y):\n",
    "    return (y*(pmax-pmin))+pmin"
   ]
  },
  {
   "cell_type": "code",
   "execution_count": 17,
   "metadata": {},
   "outputs": [],
   "source": [
    "x_axis = []\n",
    "y_axis = []\n",
    "def train(index):\n",
    "    localpoint=xd[index]\n",
    "    thetas=initialize_weights()\n",
    "    weights=calculateWeight(localpoint)\n",
    "    weights[index]=0#don't consider localpoint for training\n",
    "    for epoch in range(100):\n",
    "        ypred=forward(xd,thetas)\n",
    "        dw=diff(yd,ypred)\n",
    "\n",
    "        x_axis.append(epoch)\n",
    "        y_axis.append(mse(yd,ypred))\n",
    "        for i in range(len(thetas)):\n",
    "            grad=gradient(dw,xd[:,i:i+1],weights)\n",
    "            thetas[i]=thetas[i] - learning_rate*grad\n",
    "    \n",
    "    return forward(localpoint.reshape(-1,12),thetas),yd[index]\n",
    "pred,test=train(50)"
   ]
  },
  {
   "cell_type": "code",
   "execution_count": 20,
   "metadata": {},
   "outputs": [
    {
     "data": {
      "text/plain": [
       "[<matplotlib.lines.Line2D at 0x7f8cf551b860>]"
      ]
     },
     "execution_count": 20,
     "metadata": {},
     "output_type": "execute_result"
    },
    {
     "data": {
      "image/png": "[encoded data removed]",
      "text/plain": [
       "<Figure size 432x288 with 1 Axes>"
      ]
     },
     "metadata": {},
     "output_type": "display_data"
    }
   ],
   "source": [
    "plt.plot(x_axis,y_axis)"
   ]
  }
 ],
 "metadata": {
  "kernelspec": {
   "display_name": "Python 3",
   "language": "python",
   "name": "python3"
  },
  "language_info": {
   "codemirror_mode": {
    "name": "ipython",
    "version": 3
   },
   "file_extension": ".py",
   "mimetype": "text/x-python",
   "name": "python",
   "nbconvert_exporter": "python",
   "pygments_lexer": "ipython3",
   "version": "3.6.7"
  }
 },
 "nbformat": 4,
 "nbformat_minor": 2
}
