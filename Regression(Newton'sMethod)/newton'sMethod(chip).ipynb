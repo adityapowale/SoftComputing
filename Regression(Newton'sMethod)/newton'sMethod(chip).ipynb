{
 "cells": [
  {
   "cell_type": "code",
   "execution_count": 1,
   "metadata": {},
   "outputs": [],
   "source": [
    "import pandas as pd\n",
    "import numpy as np\n",
    "from plotly.offline import download_plotlyjs, init_notebook_mode, plot, iplot\n",
    "import plotly as py\n",
    "import matplotlib.pyplot as plt\n",
    "from sklearn.utils import shuffle"
   ]
  },
  {
   "cell_type": "code",
   "execution_count": 2,
   "metadata": {},
   "outputs": [
    {
     "data": {
      "text/html": [
       "<div>\n",
       "<style scoped>\n",
       "    .dataframe tbody tr th:only-of-type {\n",
       "        vertical-align: middle;\n",
       "    }\n",
       "\n",
       "    .dataframe tbody tr th {\n",
       "        vertical-align: top;\n",
       "    }\n",
       "\n",
       "    .dataframe thead th {\n",
       "        text-align: right;\n",
       "    }\n",
       "</style>\n",
       "<table border=\"1\" class=\"dataframe\">\n",
       "  <thead>\n",
       "    <tr style=\"text-align: right;\">\n",
       "      <th></th>\n",
       "      <th>test1</th>\n",
       "      <th>test2</th>\n",
       "      <th>result</th>\n",
       "    </tr>\n",
       "  </thead>\n",
       "  <tbody>\n",
       "    <tr>\n",
       "      <th>6</th>\n",
       "      <td>-0.398040</td>\n",
       "      <td>0.034357</td>\n",
       "      <td>1</td>\n",
       "    </tr>\n",
       "    <tr>\n",
       "      <th>99</th>\n",
       "      <td>0.823160</td>\n",
       "      <td>0.663010</td>\n",
       "      <td>0</td>\n",
       "    </tr>\n",
       "    <tr>\n",
       "      <th>81</th>\n",
       "      <td>-0.133060</td>\n",
       "      <td>-0.448100</td>\n",
       "      <td>0</td>\n",
       "    </tr>\n",
       "    <tr>\n",
       "      <th>68</th>\n",
       "      <td>0.938360</td>\n",
       "      <td>0.012427</td>\n",
       "      <td>0</td>\n",
       "    </tr>\n",
       "    <tr>\n",
       "      <th>95</th>\n",
       "      <td>-0.081221</td>\n",
       "      <td>1.108900</td>\n",
       "      <td>0</td>\n",
       "    </tr>\n",
       "  </tbody>\n",
       "</table>\n",
       "</div>"
      ],
      "text/plain": [
       "       test1     test2  result\n",
       "6  -0.398040  0.034357       1\n",
       "99  0.823160  0.663010       0\n",
       "81 -0.133060 -0.448100       0\n",
       "68  0.938360  0.012427       0\n",
       "95 -0.081221  1.108900       0"
      ]
     },
     "execution_count": 2,
     "metadata": {},
     "output_type": "execute_result"
    }
   ],
   "source": [
    "data = pd.read_csv(\"MicrochipData.csv\")\n",
    "data = shuffle(data)\n",
    "data.head()"
   ]
  },
  {
   "cell_type": "code",
   "execution_count": 3,
   "metadata": {},
   "outputs": [],
   "source": [
    "X = data.iloc[: , : 2]\n",
    "Y = data.iloc[: , 2:]\n",
    "Xadd1 = X[\"test1\"]**2\n",
    "Xadd2 = X[\"test2\"]**2\n",
    "X.insert(2 , \"t1\" , Xadd1)\n",
    "X.insert(3 , \"t2\" , Xadd2)\n",
    "x_train = X.iloc[:int(X.shape[0] * .7) , :]\n",
    "y_train = Y.iloc[:int(Y.shape[0] * .7) , :]\n",
    "x_test = X.iloc[int(X.shape[0] * .7): , :]\n",
    "y_test = Y.iloc[int(Y.shape[0] * .7): , :]\n",
    "x_axis = []\n",
    "y_axis = []\n",
    "intercept = np.ones((x_train.shape[0], 1))\n",
    "x_train = np.concatenate((intercept, x_train), axis=1)\n",
    "intercept = np.ones((x_test.shape[0], 1))\n",
    "x_test = np.concatenate((intercept, x_test), axis=1)\n",
    "theta = np.zeros((x_train.shape[1] , 1))\n",
    "lambdda = 0"
   ]
  },
  {
   "cell_type": "code",
   "execution_count": 4,
   "metadata": {},
   "outputs": [],
   "source": [
    "theta = np.zeros((x_train.shape[1] , 1))\n",
    "lambdda = 0"
   ]
  },
  {
   "cell_type": "code",
   "execution_count": 5,
   "metadata": {},
   "outputs": [],
   "source": [
    "def gradient_descent(X, y, h):\n",
    "    return (np.dot(X.T, (h - y))) / y.shape[0]\n",
    "def sigmoid(X, weight):\n",
    "    z = np.dot(X, weight)\n",
    "    return 1 / (1 + np.exp(-z))\n",
    "def find_hessian(h , X  , Y):\n",
    "    Hess = np.zeros(shape = (5 , 5))\n",
    "    for i in range (X.shape[0]):\n",
    "        hess = np.matmul(x_train[i:i+1, :].T , x_train[i:i+1 , :])\n",
    "        hess = hess*(h[i])*(1-h[i])\n",
    "        Hess += hess\n",
    "    return Hess"
   ]
  },
  {
   "cell_type": "code",
   "execution_count": 6,
   "metadata": {},
   "outputs": [],
   "source": [
    "epochs = 100\n",
    "for i in range(epochs):\n",
    "    h = sigmoid(x_train, theta)\n",
    "    loss = (h - y_train)**2\n",
    "    x_axis.append(i)\n",
    "    y_axis.append(np.average(loss))\n",
    "    f1 = gradient_descent(x_train , y_train , h)\n",
    "    f2 = find_hessian(h , x_train , y_train)\n",
    "    theta -= np.dot(f1.T , np.linalg.pinv(f2)).T\n",
    "    theta.shape"
   ]
  },
  {
   "cell_type": "code",
   "execution_count": 7,
   "metadata": {},
   "outputs": [],
   "source": [
    "result = sigmoid(x_test , theta)\n",
    "c = 0\n",
    "y_test = y_test.values"
   ]
  },
  {
   "cell_type": "code",
   "execution_count": 8,
   "metadata": {},
   "outputs": [],
   "source": [
    "for i in range(x_test.shape[0]):\n",
    "    if(round(float(result[i])) == float(y_test[i])):\n",
    "        c += 1"
   ]
  },
  {
   "cell_type": "code",
   "execution_count": 9,
   "metadata": {},
   "outputs": [
    {
     "name": "stdout",
     "output_type": "stream",
     "text": [
      "accuracy: 80.55555555555556\n"
     ]
    }
   ],
   "source": [
    "accuracy = c/y_test.shape[0]\n",
    "print(\"accuracy:\" , accuracy * 100)"
   ]
  },
  {
   "cell_type": "code",
   "execution_count": 10,
   "metadata": {},
   "outputs": [
    {
     "data": {
      "image/png": "[encoded data removed]",
      "text/plain": [
       "<Figure size 432x288 with 1 Axes>"
      ]
     },
     "metadata": {},
     "output_type": "display_data"
    }
   ],
   "source": [
    "plt.plot(x_axis , y_axis)\n",
    "plt.xlabel('epochs')\n",
    "plt.ylabel('loss')\n",
    "plt.show()"
   ]
  },
  {
   "cell_type": "code",
   "execution_count": 11,
   "metadata": {},
   "outputs": [],
   "source": [
    "theta\n",
    "w = theta.flatten()\n",
    "xx1 = []\n",
    "yy1 = []\n",
    "xx2 = []\n",
    "yy2 = []"
   ]
  },
  {
   "cell_type": "code",
   "execution_count": 12,
   "metadata": {},
   "outputs": [],
   "source": [
    "xx = np.linspace(-1 , 1 , 1000)\n",
    "def calc(x):\n",
    "    D = w[2]**2 - 4 * w[4] * (w[0] + w[1]*x + w[3]*(x**2))\n",
    "    if D >= 0:\n",
    "        s1 = (-w[2] + np.sqrt(D))/(2*w[4])\n",
    "        s2 = (-w[2] - np.sqrt(D))/(2*w[4])\n",
    "        xx1.append(x)\n",
    "        yy1.append(s1)\n",
    "        xx2.append(x)\n",
    "        yy2.append(s2)\n",
    "for i in xx:\n",
    "    calc(i)"
   ]
  },
  {
   "cell_type": "code",
   "execution_count": 13,
   "metadata": {},
   "outputs": [
    {
     "data": {
      "text/plain": [
       "[<matplotlib.lines.Line2D at 0x7fbf82730eb8>]"
      ]
     },
     "execution_count": 13,
     "metadata": {},
     "output_type": "execute_result"
    },
    {
     "data": {
      "image/png": "[encoded data removed]",
      "text/plain": [
       "<Figure size 432x288 with 2 Axes>"
      ]
     },
     "metadata": {},
     "output_type": "display_data"
    }
   ],
   "source": [
    "plt.xlabel(data.columns[2])\n",
    "plt.scatter(X.iloc[:,0],X.iloc[:,1],c=Y.iloc[:,0])\n",
    "plt.colorbar()\n",
    "xx1 = np.append(xx1 , np.flip(xx2))\n",
    "yy1 = np.append(yy1 , np.flip(yy2))\n",
    "\n",
    "plt.plot(xx1 , yy1)"
   ]
  },
  {
   "cell_type": "code",
   "execution_count": null,
   "metadata": {},
   "outputs": [],
   "source": []
  }
 ],
 "metadata": {
  "kernelspec": {
   "display_name": "Python 3",
   "language": "python",
   "name": "python3"
  },
  "language_info": {
   "codemirror_mode": {
    "name": "ipython",
    "version": 3
   },
   "file_extension": ".py",
   "mimetype": "text/x-python",
   "name": "python",
   "nbconvert_exporter": "python",
   "pygments_lexer": "ipython3",
   "version": "3.6.7"
  }
 },
 "nbformat": 4,
 "nbformat_minor": 2
}
