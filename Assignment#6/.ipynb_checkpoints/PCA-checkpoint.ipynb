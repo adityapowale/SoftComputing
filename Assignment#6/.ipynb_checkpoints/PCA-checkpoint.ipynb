{
 "cells": [
  {
   "cell_type": "code",
   "execution_count": 10,
   "metadata": {},
   "outputs": [],
   "source": [
    "import numpy as np\n",
    "import cv2 as cv"
   ]
  },
  {
   "cell_type": "code",
   "execution_count": 31,
   "metadata": {},
   "outputs": [],
   "source": [
    "def getData():\n",
    "    rows = 512 * 512 # number of pixel values in images\n",
    "    cols = 5 * 5 # total number of training images\n",
    "    dataset = np.empty(shape=(rows , cols)) \n",
    "    address = \"/home/aditya/SoftComputing/Assignment#6/training\"\n",
    "    for i in range(1, cols + 1):\n",
    "        new_addr = address + \"/\" + str(i) + \".jpg\"\n",
    "        img = cv.cvtColor(cv.imread(new_addr), cv.COLOR_RGB2GRAY) #rgb to gray\n",
    "        img = cv.resize(img , (512 , 512)) # resizing images\n",
    "        dataset[:, i - 1:i] = img.reshape(512 * 512, 1) # making dataset\n",
    "    return dataset"
   ]
  },
  {
   "cell_type": "code",
   "execution_count": 32,
   "metadata": {},
   "outputs": [],
   "source": [
    "data = getData()"
   ]
  },
  {
   "cell_type": "code",
   "execution_count": 34,
   "metadata": {},
   "outputs": [
    {
     "data": {
      "text/plain": [
       "(262144, 25)"
      ]
     },
     "execution_count": 34,
     "metadata": {},
     "output_type": "execute_result"
    }
   ],
   "source": [
    "data.shape"
   ]
  },
  {
   "cell_type": "code",
   "execution_count": 81,
   "metadata": {},
   "outputs": [],
   "source": [
    "def compute_mean_zero_face(data, rows):\n",
    "    m = data.mean(axis=1)\n",
    "    m = mean.reshape(rows, 1)\n",
    "    zero_mean = data - m\n",
    "    return m, zero_mean"
   ]
  },
  {
   "cell_type": "markdown",
   "metadata": {},
   "source": []
  }
 ],
 "metadata": {
  "kernelspec": {
   "display_name": "Python 3",
   "language": "python",
   "name": "python3"
  },
  "language_info": {
   "codemirror_mode": {
    "name": "ipython",
    "version": 3
   },
   "file_extension": ".py",
   "mimetype": "text/x-python",
   "name": "python",
   "nbconvert_exporter": "python",
   "pygments_lexer": "ipython3",
   "version": "3.6.7"
  }
 },
 "nbformat": 4,
 "nbformat_minor": 2
}
