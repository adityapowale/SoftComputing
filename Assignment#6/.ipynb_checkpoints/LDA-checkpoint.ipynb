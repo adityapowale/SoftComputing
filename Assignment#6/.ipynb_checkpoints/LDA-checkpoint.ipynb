{
 "cells": [
  {
   "cell_type": "code",
   "execution_count": 1,
   "metadata": {},
   "outputs": [],
   "source": [
    "import numpy as np #for simple numpy functions\n",
    "import cv2 as cv #for reading images \n",
    "from matplotlib import pyplot as plt #for showing images"
   ]
  },
  {
   "cell_type": "markdown",
   "metadata": {},
   "source": [
    "PCA"
   ]
  },
  {
   "cell_type": "code",
   "execution_count": 2,
   "metadata": {},
   "outputs": [],
   "source": [
    "def getData():\n",
    "    rows = 64 * 64 # number of pixel values in images\n",
    "    cols = 9 * 5 # total number of training images\n",
    "    dataset = np.empty(shape=(rows , cols)) \n",
    "    address = \"/home/aditya/SoftComputing/Assignment#6/train\"\n",
    "    for i in range(1, cols + 1):\n",
    "        new_addr = address + \"/\" + str(i) + \".png\"\n",
    "        img = cv.cvtColor(cv.imread(new_addr), cv.COLOR_RGB2GRAY) #rgb to gray\n",
    "        img = cv.resize(img ,(64 , 64))\n",
    "        dataset[:, i - 1:i] = img.reshape(64*64, 1) # making dataset\n",
    "    return dataset"
   ]
  },
  {
   "cell_type": "code",
   "execution_count": 3,
   "metadata": {},
   "outputs": [],
   "source": [
    "data = getData()"
   ]
  },
  {
   "cell_type": "code",
   "execution_count": 4,
   "metadata": {},
   "outputs": [],
   "source": [
    "def computeZeroMeanFace(data, rows): #finding zero mean face and and getting zeroed mean data\n",
    "    m = data.mean(axis=1)\n",
    "    m = m.reshape(rows, 1)\n",
    "    zero_mean = data - m\n",
    "    return m, zero_mean"
   ]
  },
  {
   "cell_type": "code",
   "execution_count": 5,
   "metadata": {},
   "outputs": [],
   "source": [
    "mean , zeroed_mean = computeZeroMeanFace(data , 64 * 64)"
   ]
  },
  {
   "cell_type": "code",
   "execution_count": 6,
   "metadata": {},
   "outputs": [
    {
     "data": {
      "text/plain": [
       "<matplotlib.image.AxesImage at 0x7f1fad411828>"
      ]
     },
     "execution_count": 6,
     "metadata": {},
     "output_type": "execute_result"
    },
    {
     "data": {
      "image/png": "[encoded data removed]",
      "text/plain": [
       "<Figure size 432x288 with 1 Axes>"
      ]
     },
     "metadata": {},
     "output_type": "display_data"
    }
   ],
   "source": [
    "c = mean.reshape(64 , 64 )\n",
    "plt.imshow(c , 'gray') #zero mean face"
   ]
  },
  {
   "cell_type": "code",
   "execution_count": 7,
   "metadata": {},
   "outputs": [
    {
     "data": {
      "text/plain": [
       "(45, 45)"
      ]
     },
     "execution_count": 7,
     "metadata": {},
     "output_type": "execute_result"
    }
   ],
   "source": [
    "covariance = np.cov(zeroed_mean.T) #covariance of zero mean\n",
    "covariance.shape"
   ]
  },
  {
   "cell_type": "code",
   "execution_count": 8,
   "metadata": {},
   "outputs": [
    {
     "data": {
      "text/plain": [
       "(45,)"
      ]
     },
     "execution_count": 8,
     "metadata": {},
     "output_type": "execute_result"
    }
   ],
   "source": [
    "c = np.dot(data.T , data) #another way to calculate mean\n",
    "c /= 45\n",
    "eigen_values , eigen_vectors = np.linalg.eig(c) #getting eigen values and eigen vectors\n",
    "eigen_values.shape"
   ]
  },
  {
   "cell_type": "code",
   "execution_count": 9,
   "metadata": {},
   "outputs": [],
   "source": [
    "indices = eigen_values.argsort()[::-1] #sorting eigen values\n",
    "eigen_values = eigen_values[indices] #getting eigen values having highest magnitude\n",
    "eigen_vectors = eigen_vectors[: , indices] # getting eigen vectors corresponding to max magnitude"
   ]
  },
  {
   "cell_type": "code",
   "execution_count": 10,
   "metadata": {},
   "outputs": [
    {
     "data": {
      "text/plain": [
       "((20, 45), (4096, 45))"
      ]
     },
     "execution_count": 10,
     "metadata": {},
     "output_type": "execute_result"
    }
   ],
   "source": [
    "features = eigen_vectors[0:20 , :] #selecting some eigen vectors\n",
    "features.shape , zeroed_mean.shape"
   ]
  },
  {
   "cell_type": "code",
   "execution_count": 11,
   "metadata": {},
   "outputs": [
    {
     "data": {
      "text/plain": [
       "((20, 45), (20, 4096))"
      ]
     },
     "execution_count": 11,
     "metadata": {},
     "output_type": "execute_result"
    }
   ],
   "source": [
    "eigen_faces = np.dot(features, zeroed_mean.T) #getting eigen faces\n",
    "norms = np.linalg.norm(eigen_faces) \n",
    "eigen_faces /= norms #making unit vectors\n",
    "signature_faces = np.dot(eigen_faces, zeroed_mean) #getting signature faces\n",
    "signature_faces.shape , eigen_faces.shape"
   ]
  },
  {
   "cell_type": "markdown",
   "metadata": {},
   "source": [
    "LDA"
   ]
  },
  {
   "cell_type": "code",
   "execution_count": 12,
   "metadata": {},
   "outputs": [],
   "source": [
    "def withinClass(signature_faces): #finding within class scatter\n",
    "    data = np.zeros(shape = (20 , 20))\n",
    "    for i in range(5):\n",
    "        mat = signature_faces[ : , i * 5 : (i+1) * 5] #taking images of each class\n",
    "        mn = mat.mean(axis = 1) #taking mean of those images\n",
    "        rows ,cols = mat.shape \n",
    "        mn = mn.reshape(rows , 1)\n",
    "        mat = mat - mn #subtracting mean from the images\n",
    "        mul = np.dot(mat , mat.T) #getting covariance \n",
    "        data += mul #adding it to final result\n",
    "    return data"
   ]
  },
  {
   "cell_type": "code",
   "execution_count": 13,
   "metadata": {},
   "outputs": [],
   "source": [
    "def betweenClass(signature_faces): #finding between class scatter\n",
    "    data = np.zeros(shape = (20 , 20))\n",
    "    mean = signature_faces.mean(axis = 1)  #mean of all signature faces\n",
    "    mean = mean.reshape(20 , 1) \n",
    "    for i in range(5):\n",
    "        mat = signature_faces[ : , i * 5 : (i+1) * 5] #taking images of each class\n",
    "        mn = mat.mean(axis = 1) #taking mean of those images\n",
    "        rows ,cols = mat.shape\n",
    "        mn = mn.reshape(rows , 1)\n",
    "        meandiff = mn - mean #substacting total mean from mean of each class\n",
    "        mul = np.dot(meandiff , mn.T) #covariance of meandiff and each mean\n",
    "        data += mul #adding to final result\n",
    "    return data"
   ]
  },
  {
   "cell_type": "code",
   "execution_count": 14,
   "metadata": {},
   "outputs": [],
   "source": [
    "wcs = withinClass(signature_faces)\n",
    "bcs = betweenClass(signature_faces)"
   ]
  },
  {
   "cell_type": "code",
   "execution_count": 15,
   "metadata": {},
   "outputs": [],
   "source": [
    "def computeJ(wcs , bcs):   #criterion function\n",
    "    return (np.dot(np.linalg.inv(wcs) , bcs)) #getting criterion funtion"
   ]
  },
  {
   "cell_type": "code",
   "execution_count": 16,
   "metadata": {},
   "outputs": [],
   "source": [
    "J = computeJ(wcs , bcs)"
   ]
  },
  {
   "cell_type": "code",
   "execution_count": 17,
   "metadata": {},
   "outputs": [
    {
     "data": {
      "text/plain": [
       "(20, 20)"
      ]
     },
     "execution_count": 17,
     "metadata": {},
     "output_type": "execute_result"
    }
   ],
   "source": [
    "J.shape"
   ]
  },
  {
   "cell_type": "code",
   "execution_count": 18,
   "metadata": {},
   "outputs": [],
   "source": [
    "eigen_values , eigen_vectors = np.linalg.eig(J) #getting eigen values and eigen vectors of criterion function"
   ]
  },
  {
   "cell_type": "code",
   "execution_count": 19,
   "metadata": {},
   "outputs": [],
   "source": [
    "indices = eigen_values.argsort()[::-1]#sorting eigen values\n",
    "eigen_values = eigen_values[indices]#getting eigen values having highest magnitude\n",
    "eigen_vectors = eigen_vectors[: , indices]# getting eigen vectors corresponding to max magnitude"
   ]
  },
  {
   "cell_type": "code",
   "execution_count": 20,
   "metadata": {},
   "outputs": [
    {
     "data": {
      "text/plain": [
       "((15, 20), (4096, 45))"
      ]
     },
     "execution_count": 20,
     "metadata": {},
     "output_type": "execute_result"
    }
   ],
   "source": [
    "features = eigen_vectors[0:15 , :] #selecting some eigen vectors\n",
    "features.shape , zeroed_mean.shape"
   ]
  },
  {
   "cell_type": "code",
   "execution_count": 21,
   "metadata": {},
   "outputs": [],
   "source": [
    "fisher_face = np.dot(features , signature_faces) #getting fisher faces of all images\n",
    "fisher_face = fisher_face.T"
   ]
  },
  {
   "cell_type": "markdown",
   "metadata": {},
   "source": [
    "test"
   ]
  },
  {
   "cell_type": "code",
   "execution_count": 22,
   "metadata": {},
   "outputs": [
    {
     "name": "stdout",
     "output_type": "stream",
     "text": [
      "[652.59083343]\n",
      "face i off 4\n"
     ]
    }
   ],
   "source": [
    "img = cv.imread(\"/home/aditya/SoftComputing/Assignment#6/test/z4.png\") #reading test images\n",
    "img = cv.cvtColor(img, cv.COLOR_RGB2GRAY) #rgb to gray\n",
    "img = cv.resize(img ,(64 , 64)) \n",
    "img = img.reshape(64 * 64 , 1) #reshaping to coloumn vector\n",
    "img = img - mean #subtracting zero mean face from test image\n",
    "eface = np.dot(eigen_faces , img) #getting eigen face of test image\n",
    "res = np.dot(features , eface) #projecting on to feature vectors\n",
    "\n",
    "min_d = np.inf\n",
    "col_number = 0\n",
    "for c in fisher_face: #comparing with all fisher faces by taking distance\n",
    "    v = c.reshape(res.shape)\n",
    "    d = np.linalg.norm(v - res ,axis = 0)\n",
    "    if d < min_d:\n",
    "            min_d = d\n",
    "            index = col_number\n",
    "    col_number += 1\n",
    "print(d)\n",
    "print(\"face i off \" + str(index//9 + 1))"
   ]
  },
  {
   "cell_type": "code",
   "execution_count": null,
   "metadata": {},
   "outputs": [],
   "source": []
  }
 ],
 "metadata": {
  "kernelspec": {
   "display_name": "Python 3",
   "language": "python",
   "name": "python3"
  },
  "language_info": {
   "codemirror_mode": {
    "name": "ipython",
    "version": 3
   },
   "file_extension": ".py",
   "mimetype": "text/x-python",
   "name": "python",
   "nbconvert_exporter": "python",
   "pygments_lexer": "ipython3",
   "version": "3.6.7"
  }
 },
 "nbformat": 4,
 "nbformat_minor": 2
}
